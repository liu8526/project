{
 "metadata": {
  "language_info": {
   "codemirror_mode": {
    "name": "ipython",
    "version": 3
   },
   "file_extension": ".py",
   "mimetype": "text/x-python",
   "name": "python",
   "nbconvert_exporter": "python",
   "pygments_lexer": "ipython3",
   "version": "3.7.10"
  },
  "orig_nbformat": 2,
  "kernelspec": {
   "name": "python3710jvsc74a57bd09095915ff6f410bb9b91f8bcee9d2daf08a2f04ceb634ae48d243409e5f95376",
   "display_name": "Python 3.7.10 64-bit ('py37': conda)"
  }
 },
 "nbformat": 4,
 "nbformat_minor": 2,
 "cells": [
  {
   "cell_type": "code",
   "execution_count": null,
   "metadata": {},
   "outputs": [],
   "source": [
    "import PIL.Image as Image   # 用于直接无损读取单通道图片 / cv不太方便\n",
    "from skimage.io import imread, imshow # 用于读取TIFF图形文件\n",
    "from matplotlib import pyplot as plt  # 用于展示绘图\n",
    "import cv2\n",
    "\n",
    "\n",
    "# 调整为解压后的数据中的图片即可\n",
    "tif_img = cv2.imread('data_sets/raw_data/000009.tif', cv2.IMREAD_UNCHANGED) #cv2.IMREAD_GRAYSCALE\n",
    "png_img = cv2.imread('./test.png', cv2.IMREAD_GRAYSCALE)\n",
    "png_img_lable = cv2.imread('data_sets/raw_data/000009.png', cv2.IMREAD_GRAYSCALE)\n",
    "\n",
    "imshow(tif_img[:, :, :3])\n",
    "plt.show()\n",
    "print('TIFF Data Shape: ', tif_img.shape)\n",
    "\n",
    "imshow(png_img)\n",
    "plt.show()\n",
    "print('PNG Data Shape: ', png_img.shape)\n",
    "\n",
    "imshow(png_img_lable)\n",
    "plt.show()\n",
    "print('PNG Data Shape: ', png_img_lable.shape)"
   ]
  },
  {
   "source": [
    "## 学习率调整"
   ],
   "cell_type": "markdown",
   "metadata": {}
  },
  {
   "cell_type": "code",
   "execution_count": null,
   "metadata": {
    "tags": []
   },
   "outputs": [],
   "source": [
    "import torch\n",
    "import torch.optim as optim\n",
    "from torch.optim import lr_scheduler\n",
    "from torchvision.models import AlexNet\n",
    "import matplotlib.pyplot as plt\n",
    "\n",
    "\n",
    "model = AlexNet(num_classes=2)\n",
    "optimizer = optim.SGD(params=model.parameters(), lr=0.0001)\n",
    "\n",
    "\n",
    "scheduler = lr_scheduler.ExponentialLR(optimizer, gamma=0.90)\n",
    "epo = 15\n",
    "plt.figure()\n",
    "x = list(range(epo))\n",
    "y = []\n",
    "for epoch in range(epo):\n",
    "    scheduler.step()\n",
    "    lr = scheduler.get_last_lr()\n",
    "    # print(epoch, scheduler.get_lr()[0])\n",
    "    y.append(lr[0])\n",
    "plt.xlabel(\"epoch\")\n",
    "plt.ylabel(\"learning rate\")\n",
    "plt.plot(x, y)\n",
    "print('after {} epochs:'.format(epo), y[epo-1])"
   ]
  },
  {
   "source": [
    "## 转换成onnx"
   ],
   "cell_type": "markdown",
   "metadata": {}
  },
  {
   "cell_type": "code",
   "execution_count": null,
   "metadata": {
    "tags": []
   },
   "outputs": [],
   "source": [
    "import torchvision\n",
    "import torch\n",
    "from torch.autograd import Variable\n",
    "import onnx\n",
    "from utils.deeplearning import seg_model\n",
    "\n",
    "input_name = ['input']\n",
    "output_name = ['output']\n",
    "input = Variable(torch.randn(1, 4, 256, 256)).cuda()\n",
    "\n",
    "model=seg_model().cuda()\n",
    "model= torch.nn.DataParallel(model)\n",
    "checkpoints=torch.load('save/model/timm-efficientnet-b7/checkpoint-best.pth')\n",
    "model.load_state_dict(checkpoints['state_dict'])\n",
    "model.eval()\n",
    "\n",
    "torch.onnx.export(model.module, input, 'timm-efficientnet-b7.onnx', input_names=input_name, output_names=output_name, verbose=True, opset_version=11)"
   ]
  },
  {
   "cell_type": "code",
   "execution_count": null,
   "metadata": {},
   "outputs": [],
   "source": [
    "test = onnx.load('lite.onnx')\n",
    "onnx.checker.check_model(test)\n",
    "print(\"==> Passed\")"
   ]
  },
  {
   "source": [
    "## 直接转成TRT"
   ],
   "cell_type": "markdown",
   "metadata": {}
  },
  {
   "cell_type": "code",
   "execution_count": null,
   "metadata": {
    "tags": []
   },
   "outputs": [],
   "source": [
    "import torch\n",
    "from torch2trt import torch2trt\n",
    "from utils.deeplearning import seg_model\n",
    "\n",
    "# create some regular pytorch model...\n",
    "model=seg_model().cuda()\n",
    "model= torch.nn.DataParallel(model)\n",
    "checkpoints=torch.load('save/model/timm-efficientnet-b7/checkpoint-best.pth')\n",
    "model.load_state_dict(checkpoints['state_dict'])\n",
    "model.eval()\n",
    "\n",
    "# create example data\n",
    "x = torch.ones((1, 4, 256, 256)).cuda()\n",
    "\n",
    "# convert to TensorRT feeding sampl\n",
    "# e data as input\n",
    "model_trt = torch2trt(model, [x])"
   ]
  },
  {
   "cell_type": "code",
   "execution_count": null,
   "metadata": {},
   "outputs": [],
   "source": [
    "from dataset import val_transform\n",
    "import cv2\n",
    "import PIL.Image as Image\n",
    "import numpy as np\n",
    "\n",
    "imdir = 'data_sets/raw_data/000007.tif'\n",
    "\n",
    "image = cv2.imread(imdir, cv2.IMREAD_UNCHANGED)\n",
    "img = val_transform(image=image)['image']\n",
    "img=img.unsqueeze(0)\n",
    "#print(img.shape)\n",
    "with torch.no_grad():\n",
    "    img=img.cuda()\n",
    "    output = model_trt(img)\n",
    "pred = output.squeeze().cpu().data.numpy()\n",
    "pred = np.argmax(pred,axis=0)\n",
    "\n",
    "img=Image.fromarray(np.uint8(pred))\n",
    "img=img.convert('L')\n",
    "#print(out_path)\n",
    "out_path=os.path.join('test.png')\n",
    "img.save(out_path)"
   ]
  },
  {
   "cell_type": "code",
   "execution_count": null,
   "metadata": {},
   "outputs": [],
   "source": [
    "import PIL.Image as Image   # 用于直接无损读取单通道图片 / cv不太方便\n",
    "from skimage.io import imread, imshow # 用于读取TIFF图形文件\n",
    "from matplotlib import pyplot as plt  # 用于展示绘图\n",
    "\n",
    "\n",
    "# 调整为解压后的数据中的图片即可\n",
    "tif_img = cv2.imread(imdir, cv2.IMREAD_UNCHANGED) #cv2.IMREAD_GRAYSCALE\n",
    "png_img = cv2.imread('test.png', cv2.IMREAD_GRAYSCALE)\n",
    "\n",
    "imshow(tif_img[:, :, :3])\n",
    "plt.show()\n",
    "print('TIFF Data Shape: ', tif_img.shape)\n",
    "\n",
    "imshow(png_img)\n",
    "plt.show()\n",
    "print('PNG Data Shape: ', png_img.shape)"
   ]
  },
  {
   "source": [
    "## ONNX运行时加速推理"
   ],
   "cell_type": "markdown",
   "metadata": {}
  },
  {
   "cell_type": "code",
   "execution_count": 4,
   "metadata": {},
   "outputs": [
    {
     "output_type": "stream",
     "name": "stdout",
     "text": [
      "device: GPU\n"
     ]
    }
   ],
   "source": [
    "import onnxruntime\n",
    "print('device:', onnxruntime.get_device())\n",
    "session = onnxruntime.InferenceSession('timm-efficientnet-b7_con.onnx')"
   ]
  },
  {
   "cell_type": "code",
   "execution_count": 131,
   "metadata": {},
   "outputs": [
    {
     "output_type": "error",
     "ename": "InvalidArgument",
     "evalue": "[ONNXRuntimeError] : 2 : INVALID_ARGUMENT : Unexpected input data type. Actual: (N11onnxruntime17PrimitiveDataTypeIhEE) , expected: (N11onnxruntime17PrimitiveDataTypeINS_9MLFloat16EEE)",
     "traceback": [
      "\u001b[0;31m---------------------------------------------------------------------------\u001b[0m",
      "\u001b[0;31mInvalidArgument\u001b[0m                           Traceback (most recent call last)",
      "\u001b[0;32m<ipython-input-131-262bc1bc274f>\u001b[0m in \u001b[0;36m<module>\u001b[0;34m\u001b[0m\n\u001b[1;32m     20\u001b[0m \u001b[0;31m# print(tensor.shape)\u001b[0m\u001b[0;34m\u001b[0m\u001b[0;34m\u001b[0m\u001b[0;34m\u001b[0m\u001b[0m\n\u001b[1;32m     21\u001b[0m \u001b[0;34m\u001b[0m\u001b[0m\n\u001b[0;32m---> 22\u001b[0;31m \u001b[0mresult\u001b[0m \u001b[0;34m=\u001b[0m \u001b[0msession\u001b[0m\u001b[0;34m.\u001b[0m\u001b[0mrun\u001b[0m\u001b[0;34m(\u001b[0m\u001b[0;34m[\u001b[0m\u001b[0;34m]\u001b[0m\u001b[0;34m,\u001b[0m \u001b[0;34m{\u001b[0m\u001b[0;34m\"input\"\u001b[0m\u001b[0;34m:\u001b[0m \u001b[0mimg\u001b[0m\u001b[0;34m}\u001b[0m\u001b[0;34m)\u001b[0m\u001b[0;31m#tensor.cpu().numpy()\u001b[0m\u001b[0;34m\u001b[0m\u001b[0;34m\u001b[0m\u001b[0m\n\u001b[0m\u001b[1;32m     23\u001b[0m \u001b[0;34m\u001b[0m\u001b[0m\n\u001b[1;32m     24\u001b[0m \u001b[0mresult\u001b[0m \u001b[0;34m=\u001b[0m \u001b[0mnp\u001b[0m\u001b[0;34m.\u001b[0m\u001b[0marray\u001b[0m\u001b[0;34m(\u001b[0m\u001b[0mresult\u001b[0m\u001b[0;34m)\u001b[0m\u001b[0;34m\u001b[0m\u001b[0;34m\u001b[0m\u001b[0m\n",
      "\u001b[0;32m~/miniconda3/envs/py37/lib/python3.7/site-packages/onnxruntime/capi/onnxruntime_inference_collection.py\u001b[0m in \u001b[0;36mrun\u001b[0;34m(self, output_names, input_feed, run_options)\u001b[0m\n\u001b[1;32m    122\u001b[0m             \u001b[0moutput_names\u001b[0m \u001b[0;34m=\u001b[0m \u001b[0;34m[\u001b[0m\u001b[0moutput\u001b[0m\u001b[0;34m.\u001b[0m\u001b[0mname\u001b[0m \u001b[0;32mfor\u001b[0m \u001b[0moutput\u001b[0m \u001b[0;32min\u001b[0m \u001b[0mself\u001b[0m\u001b[0;34m.\u001b[0m\u001b[0m_outputs_meta\u001b[0m\u001b[0;34m]\u001b[0m\u001b[0;34m\u001b[0m\u001b[0;34m\u001b[0m\u001b[0m\n\u001b[1;32m    123\u001b[0m         \u001b[0;32mtry\u001b[0m\u001b[0;34m:\u001b[0m\u001b[0;34m\u001b[0m\u001b[0;34m\u001b[0m\u001b[0m\n\u001b[0;32m--> 124\u001b[0;31m             \u001b[0;32mreturn\u001b[0m \u001b[0mself\u001b[0m\u001b[0;34m.\u001b[0m\u001b[0m_sess\u001b[0m\u001b[0;34m.\u001b[0m\u001b[0mrun\u001b[0m\u001b[0;34m(\u001b[0m\u001b[0moutput_names\u001b[0m\u001b[0;34m,\u001b[0m \u001b[0minput_feed\u001b[0m\u001b[0;34m,\u001b[0m \u001b[0mrun_options\u001b[0m\u001b[0;34m)\u001b[0m\u001b[0;34m\u001b[0m\u001b[0;34m\u001b[0m\u001b[0m\n\u001b[0m\u001b[1;32m    125\u001b[0m         \u001b[0;32mexcept\u001b[0m \u001b[0mC\u001b[0m\u001b[0;34m.\u001b[0m\u001b[0mEPFail\u001b[0m \u001b[0;32mas\u001b[0m \u001b[0merr\u001b[0m\u001b[0;34m:\u001b[0m\u001b[0;34m\u001b[0m\u001b[0;34m\u001b[0m\u001b[0m\n\u001b[1;32m    126\u001b[0m             \u001b[0;32mif\u001b[0m \u001b[0mself\u001b[0m\u001b[0;34m.\u001b[0m\u001b[0m_enable_fallback\u001b[0m\u001b[0;34m:\u001b[0m\u001b[0;34m\u001b[0m\u001b[0;34m\u001b[0m\u001b[0m\n",
      "\u001b[0;31mInvalidArgument\u001b[0m: [ONNXRuntimeError] : 2 : INVALID_ARGUMENT : Unexpected input data type. Actual: (N11onnxruntime17PrimitiveDataTypeIhEE) , expected: (N11onnxruntime17PrimitiveDataTypeINS_9MLFloat16EEE)"
     ]
    }
   ],
   "source": [
    "import cv2\n",
    "import torchvision.transforms as transforms\n",
    "import torch\n",
    "import numpy as np\n",
    "from PIL import Image\n",
    "import time\n",
    "\n",
    "\n",
    "img_dir = 'data_sets/val/000236.tif'\n",
    "img = cv2.imread(img_dir, cv2.IMREAD_UNCHANGED)\n",
    "start = time.time()\n",
    "\n",
    "img = img.transpose(2, 0, 1)\n",
    "\n",
    "\n",
    "img = np.expand_dims(img, axis=0)\n",
    "\n",
    "# tensor = transforms.ToTensor()(img).half()\n",
    "# tensor = tensor.unsqueeze(0)\n",
    "# print(tensor.shape)\n",
    "\n",
    "result = session.run([], {\"input\": img})#tensor.cpu().numpy()\n",
    "\n",
    "result = np.array(result)\n",
    "pred = result.squeeze()\n",
    "pred = np.argmax(pred,axis=0) + 1\n",
    "print('with ', onnxruntime.get_device(), 'spend(s):', time.time() - start)\n",
    "\n",
    "result = pred\n",
    "img=Image.fromarray(np.uint8(result))\n",
    "img=img.convert('L')\n",
    "img.save('./test.png')"
   ]
  },
  {
   "source": [
    "## CUDA"
   ],
   "cell_type": "markdown",
   "metadata": {}
  },
  {
   "cell_type": "code",
   "execution_count": null,
   "metadata": {},
   "outputs": [],
   "source": [
    "import numpy as np\n",
    "import torch\n",
    "import torchvision.transforms as transforms\n",
    "import cv2\n",
    "import time\n",
    "from PIL import Image\n",
    "import segmentation_models_pytorch as smp\n",
    "from albumentations.pytorch import ToTensorV2\n",
    "# from utils import colorEncode\n",
    "import torch.nn as nn\n",
    "from torch.cuda.amp import autocast\n",
    "from utils.deeplearning import seg_model\n",
    "from dataset import val_transform\n",
    "\n",
    "\n",
    "def inference(img_dir):\n",
    "    transform=val_transform\n",
    "\n",
    "    image = cv2.imread(img_dir, cv2.IMREAD_UNCHANGED)\n",
    "    img = transform(image=image)['image']\n",
    "    img=img.unsqueeze(0)\n",
    "    #print(img.shape)\n",
    "    with torch.no_grad():\n",
    "        img=img.cuda()\n",
    "        start = time.time()\n",
    "        output = model(img)\n",
    "        print('with CUDA', 'spend(s):', time.time() - start)\n",
    "    \n",
    "    pred = output.squeeze().cpu().data.numpy()\n",
    "    pred = np.argmax(pred,axis=0)\n",
    "    return pred+1\n",
    "\n",
    "model=seg_model().cuda()\n",
    "model= torch.nn.DataParallel(model)\n",
    "checkpoints=torch.load('save/model/timm-efficientnet-b7/checkpoint-best.pth')\n",
    "model.load_state_dict(checkpoints['state_dict'])\n",
    "model.eval()"
   ]
  },
  {
   "cell_type": "code",
   "execution_count": null,
   "metadata": {},
   "outputs": [],
   "source": [
    "result=inference(img_dir)\n",
    "img=Image.fromarray(np.uint8(result))\n",
    "img=img.convert('L')\n",
    "img.save('./test.png')"
   ]
  },
  {
   "source": [
    "## TensorRT加速"
   ],
   "cell_type": "markdown",
   "metadata": {}
  },
  {
   "cell_type": "code",
   "execution_count": null,
   "metadata": {},
   "outputs": [],
   "source": [
    "from PIL import Image\n",
    "import numpy as np\n",
    "import pycuda.driver as cuda\n",
    "import time\n",
    "import tensorrt as trt\n",
    "import sys, os\n",
    "sys.path.insert(1, os.path.join(sys.path[0], \"..\"))\n",
    "import common\n",
    "\n",
    "class ModelData(object):\n",
    "    MODEL_PATH = \"timm-efficientnet-b7_con.onnx\"\n",
    "    INPUT_SHAPE = (4, 256, 256)\n",
    "    # We can convert TensorRT data types to numpy types with trt.nptype()\n",
    "    DTYPE = trt.float32\n",
    "\n",
    "# You can set the logger severity higher to suppress messages (or lower to display more messages).\n",
    "TRT_LOGGER = trt.Logger(trt.Logger.WARNING)\n",
    "\n",
    "# Allocate host and device buffers, and create a stream.\n",
    "def allocate_buffers(engine):\n",
    "    # Determine dimensions and create page-locked memory buffers (i.e. won't be swapped to disk) to hold host inputs/outputs.\n",
    "    h_input = cuda.pagelocked_empty(trt.volume(engine.get_binding_shape(0)), dtype=trt.nptype(ModelData.DTYPE))\n",
    "    h_output = cuda.pagelocked_empty(trt.volume(engine.get_binding_shape(1)), dtype=trt.nptype(ModelData.DTYPE))\n",
    "    # Allocate device memory for inputs and outputs.\n",
    "    d_input = cuda.mem_alloc(h_input.nbytes)\n",
    "    d_output = cuda.mem_alloc(h_output.nbytes)\n",
    "    # Create a stream in which to copy inputs/outputs and run inference.\n",
    "    stream = cuda.Stream()\n",
    "    return h_input, d_input, h_output, d_output, stream\n",
    "\n",
    "def do_inference(context, h_input, d_input, h_output, d_output, stream):\n",
    "    # Transfer input data to the GPU.\n",
    "    cuda.memcpy_htod_async(d_input, h_input, stream)\n",
    "    # Run inference.\n",
    "    context.execute_async(bindings=[int(d_input), int(d_output)], stream_handle=stream.handle)\n",
    "    # Transfer predictions back from the GPU.\n",
    "    cuda.memcpy_dtoh_async(h_output, d_output, stream)\n",
    "    # Synchronize the stream\n",
    "    stream.synchronize()\n",
    "\n",
    "# The Onnx path is used for Onnx models.\n",
    "def build_engine_onnx(model_file):\n",
    "    with trt.Builder(TRT_LOGGER) as builder, builder.create_network() as network, trt.OnnxParser(network, TRT_LOGGER) as parser:\n",
    "        builder.max_workspace_size = common.GiB(1)\n",
    "        # Load the Onnx model and parse it in order to populate the TensorRT network.\n",
    "        with open(model_file, 'rb') as model:\n",
    "            parser.parse(model.read())\n",
    "        last_layer = network.get_layer(network.num_layers - 1)\n",
    "        network.mark_output(last_layer.get_output(0))\n",
    "        returnresult=builder.build_cuda_engine(network)\n",
    "        return returnresult\n",
    "\n",
    "def load_normalized_test_case(test_image, pagelocked_buffer):\n",
    "    # Converts the input image to a CHW Numpy array\n",
    "    def normalize_image(image):\n",
    "\n",
    "        # Resize, antialias and transpose the image to CHW.\n",
    "        c, h, w = ModelData.INPUT_SHAPE\n",
    "        image_arr = np.asarray(image.resize((w, h), Image.ANTIALIAS))\n",
    "        image_arr = np.reshape(image_arr, image_arr.shape + (1,))\n",
    "        image_arr=image_arr.transpose([2, 0, 1])\n",
    "        image_arr=image_arr.astype(trt.nptype(ModelData.DTYPE))\n",
    "        image_arr=image_arr.ravel()\n",
    "        # This particular ResNet50 model requires some preprocessing, specifically, mean normalization.\n",
    "        return (image_arr / 255.0 - 0.45) / 0.225\n",
    "\n",
    "    # Normalize the image and copy to pagelocked memory.\n",
    "    np.copyto(pagelocked_buffer, normalize_image(Image.open(test_image)))\n",
    "    return test_image"
   ]
  },
  {
   "cell_type": "code",
   "execution_count": null,
   "metadata": {},
   "outputs": [],
   "source": [
    "onnx_model_file='timm-efficientnet-b7_con.onnx'\n",
    "# Build a TensorRT engine.\n",
    "with build_engine_onnx(onnx_model_file) as engine:\n",
    "    # Inference is the same regardless of which parser is used to build the engine, since the model architecture is the same.\n",
    "    # Allocate buffers and create a CUDA stream.\n",
    "    h_input, d_input, h_output, d_output, stream = allocate_buffers(engine)\n",
    "    with engine.create_execution_context() as context:\n",
    "        # Load a normalized test case into the host input page-locked buffer.\n",
    "        starttime=time.time()\n",
    "        for i in range(100):\n",
    "            test_image =img_dir\n",
    "            test_case = load_normalized_test_case(test_image, h_input)\n",
    "            # Run the engine. The output will be a 1D tensor of length 1000, where each value represents the\n",
    "            # probability that the image corresponds to that label\n",
    "            do_inference(context, h_input, d_input, h_output, d_output, stream)\n",
    "            #print('ok')\n",
    "        endtime=time.time()\n",
    "        pertime=(endtime-starttime)/100\n",
    "        print('perimg cost'+str(pertime))"
   ]
  }
 ]
}